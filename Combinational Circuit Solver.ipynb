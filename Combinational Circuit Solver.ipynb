{
 "cells": [
  {
   "cell_type": "markdown",
   "id": "b2d0c681-6587-44a0-9f38-3983fe167cd4",
   "metadata": {},
   "source": [
    "# Assignment 4"
   ]
  },
  {
   "cell_type": "markdown",
   "id": "50f57098-4ea1-4396-9412-93e92e8eb485",
   "metadata": {},
   "source": [
    "## Topological Approach"
   ]
  },
  {
   "cell_type": "markdown",
   "id": "ddf78193-c8a7-4e95-b3c2-f2f5336c3d63",
   "metadata": {},
   "source": [
    "#### Importing Libraries \n",
    "And we define our `DAG` variable, `g`."
   ]
  },
  {
   "cell_type": "code",
   "execution_count": 1,
   "id": "f112d18c-7201-4fb4-b34d-b4cc10c015d3",
   "metadata": {
    "tags": []
   },
   "outputs": [],
   "source": [
    "import networkx as nx \n",
    "import numpy as np\n",
    "import timeit\n",
    "import sys\n",
    "g = nx.DiGraph()\n",
    "o=0"
   ]
  },
  {
   "cell_type": "markdown",
   "id": "dba988ae-6b9d-4d67-a7ea-0da83f051e78",
   "metadata": {},
   "source": [
    "#### Defining Gate functions\n",
    "Here we have defined all the functions we will use for our gates.\n",
    "\n"
   ]
  },
  {
   "cell_type": "code",
   "execution_count": 2,
   "id": "a839ac80-6499-448b-b205-62b2c87dd339",
   "metadata": {},
   "outputs": [],
   "source": [
    "def AND(x,y):\n",
    "    return x*y"
   ]
  },
  {
   "cell_type": "code",
   "execution_count": 3,
   "id": "41ad6372-f241-4e07-bd53-22c6cc4f754c",
   "metadata": {},
   "outputs": [],
   "source": [
    "def OR(x,y):\n",
    "    if x+y >=1:\n",
    "        return 1\n",
    "    else:\n",
    "        return 0"
   ]
  },
  {
   "cell_type": "code",
   "execution_count": 4,
   "id": "8abbcb35-39e4-49f6-b1d2-67a0c2857c5b",
   "metadata": {},
   "outputs": [],
   "source": [
    "def NOT(x):\n",
    "    if x==0:\n",
    "        return 1\n",
    "    else:\n",
    "        return 0"
   ]
  },
  {
   "cell_type": "code",
   "execution_count": 5,
   "id": "1d8be53c-3bae-48aa-8d27-c88419624266",
   "metadata": {},
   "outputs": [],
   "source": [
    "def NOR(x,y):\n",
    "    return NOT(OR(x,y))"
   ]
  },
  {
   "cell_type": "code",
   "execution_count": 6,
   "id": "8b85c29d-1997-4327-b3c5-d8e8ebb2b27b",
   "metadata": {},
   "outputs": [],
   "source": [
    "def NAND(x,y):\n",
    "    return NOT(AND(x,y))"
   ]
  },
  {
   "cell_type": "code",
   "execution_count": 7,
   "id": "055e00cd-686f-427f-8823-47065fdae6d3",
   "metadata": {},
   "outputs": [],
   "source": [
    "def XOR(x,y):\n",
    "    if x==y:\n",
    "        return 0\n",
    "    else:\n",
    "        return 1"
   ]
  },
  {
   "cell_type": "code",
   "execution_count": 8,
   "id": "ab5952d9-a41c-4d99-9bba-52d431005313",
   "metadata": {},
   "outputs": [],
   "source": [
    "def XNOR(x,y):\n",
    "    return NOT(XOR(x,y))"
   ]
  },
  {
   "cell_type": "code",
   "execution_count": 9,
   "id": "402681f4-a8ed-4def-8a0b-13fd9dddb72e",
   "metadata": {},
   "outputs": [],
   "source": [
    "def BUF(x):\n",
    "    return x"
   ]
  },
  {
   "cell_type": "markdown",
   "id": "02282c17-242f-4403-a5cb-570ee0e3c1bd",
   "metadata": {},
   "source": [
    "#### Function to read the netlist\n",
    "Here we add the edges and corresponding node attributs to our `DAG` variable, `g`.\n",
    "\n",
    "We use the list `connections` to add tuples which contain our directed edges, then we pass it to `g`.\n",
    "We also use `gates` and `nodes` dictionaries to add attributes to `g`.\n",
    "\n",
    "We have also added a `cycle` variable to check for a cycle in the graph `g`, which will make it unsolvable.\n",
    "It will throw an error if there is a cycle present, like in `c17_1.net` netlist."
   ]
  },
  {
   "cell_type": "code",
   "execution_count": 10,
   "id": "310889ac-6cc2-46a0-ac58-343aa4dfb37e",
   "metadata": {
    "tags": []
   },
   "outputs": [],
   "source": [
    "def read_file_circuit(file):\n",
    "    f1=open(file,'r')\n",
    "    lines=f1.readlines()\n",
    "    for l in lines:\n",
    "        if l.split()[1] == 'inv' or l.split()[1] == 'buf':\n",
    "            connections.append((l.split()[2],l.split()[3]))\n",
    "            gates[l.split()[3]]=l.split()[1]\n",
    "            nodes[l.split()[3]]=l.split()[0]\n",
    "        else:\n",
    "            connections.append((l.split()[2],l.split()[4]))\n",
    "            connections.append((l.split()[3],l.split()[4]))\n",
    "            gates[l.split()[4]]=l.split()[1]\n",
    "            nodes[l.split()[4]]=l.split()[0]\n",
    "            \n",
    "    g.add_edges_from(connections)\n",
    "    for l in connections:\n",
    "        if list(g.predecessors(l[0])) == []:\n",
    "            gates[l[0]]=\"PI\"\n",
    "        #elif list(g.successors(l[1])) == []:\n",
    "            #gates[l[1]]=\"PO\"\n",
    "    nx.set_node_attributes(g,gates,name=\"gate_type\")\n",
    "    nx.set_node_attributes(g,nodes,name=\"node\")\n",
    "    cycle=nx.algorithms.dag.is_directed_acyclic_graph(g)\n",
    "    if cycle is False:\n",
    "        print(\"There is a cycle present, netlist cannot be evaluated\")\n",
    "        sys.exit()\n",
    "        f1.close()\n",
    "    return"
   ]
  },
  {
   "cell_type": "markdown",
   "id": "8f5cde3e-801d-42df-9e66-4d95078f8165",
   "metadata": {},
   "source": [
    "#### Function to read the input file\n",
    "We return `inarr` which is the array with all primary inputs."
   ]
  },
  {
   "cell_type": "code",
   "execution_count": 11,
   "id": "774df8f7-dc3a-464a-8c6f-20fdc989430b",
   "metadata": {
    "tags": []
   },
   "outputs": [],
   "source": [
    "def read_file_inputs(file):\n",
    "    h={}\n",
    "    f1=open(file,'r')\n",
    "    lines = f1.readlines()\n",
    "    o = len(lines)-1\n",
    "    head=list(lines[0].split())\n",
    "    inarr=np.zeros((len(lines)-1,len(head)))\n",
    "    j=k=0\n",
    "    for i in lines:\n",
    "        if k>0:\n",
    "            for l in range(len(head)):\n",
    "                inarr[j-1][l]=int(i.split()[l])\n",
    "        j+=1\n",
    "        k+=1\n",
    "    f1.close()\n",
    "    return inarr,head,o"
   ]
  },
  {
   "cell_type": "markdown",
   "id": "8255735d-4137-4bcf-ac17-d89da19ddd53",
   "metadata": {},
   "source": [
    "#### Final Solver\n",
    "This block contains the function `topo_solve`, which evaluates the state of the net according to the gate.\n",
    "\n",
    "The states are recorded in a dictionary called `values` which is overwritten again and again to evaluate for all time instances. It is then sorted and appended to the `output` variable. `output` is then returned to the main function."
   ]
  },
  {
   "cell_type": "code",
   "execution_count": 12,
   "id": "caaf799d-59f6-4c90-b6e0-0385bf0c7777",
   "metadata": {
    "tags": []
   },
   "outputs": [],
   "source": [
    "def topo_solve(file_net,file_input):\n",
    "    temp=[]\n",
    "    inarr,head,o=read_file_inputs(file_input)\n",
    "    read_file_circuit(file_net)\n",
    "    nl = list(nx.lexicographical_topological_sort(g))\n",
    "    for i in range(o):\n",
    "        values={}\n",
    "        for l in nl:\n",
    "            u=list(g.predecessors(l))\n",
    "            if len(u)==2:\n",
    "                n1=int(values.get(u[0]))\n",
    "                n2=int(values.get(u[1]))\n",
    "            elif len(u)==1:\n",
    "                n1=int(values.get(u[0]))\n",
    "            if gates.get(l) == 'PI':\n",
    "                for k in range(len(head)):\n",
    "                    if head[k]==l:\n",
    "                        values[l]=int(inarr[i][k])\n",
    "            elif gates.get(l) == 'nand2':\n",
    "                values[l]=NAND(n1,n2)\n",
    "            elif gates.get(l) == 'and2':\n",
    "                values[l]=AND(n1,n2)\n",
    "            elif gates.get(l) == 'or2':\n",
    "                 values[l]=OR(n1,n2)\n",
    "            elif gates.get(l) == 'inv':\n",
    "                values[l]=NOT(n1)\n",
    "            elif gates.get(l) == 'nor2':\n",
    "                values[l]=NOR(n1,n2)\n",
    "            elif gates.get(l) == 'xor2':\n",
    "                values[l]=XOR(n1,n2)\n",
    "            elif gates.get(l) == 'xnor2':\n",
    "                values[l]=XNOR(n1,n2)\n",
    "            elif gates.get(l) == 'buf':\n",
    "                values[l]=BUF(n1)\n",
    "        output.append(list(dict(sorted(values.items())).values()))\n",
    "    return output,o"
   ]
  },
  {
   "cell_type": "markdown",
   "id": "52c32947-db1b-411e-b856-5480f049f635",
   "metadata": {},
   "source": [
    "#### Final Evaluation and Output File\n",
    "We are returned the `output` variable, that is ordered in ascending `ASCII` values, which is more than enough to sort our outputs.\n",
    "\n",
    "We write into a file using a `for` loop and each file is uniquely named for each netlist."
   ]
  },
  {
   "cell_type": "code",
   "execution_count": 13,
   "id": "9057edd4-3990-475f-a4a7-a6a1201a64fb",
   "metadata": {
    "tags": []
   },
   "outputs": [
    {
     "name": "stdout",
     "output_type": "stream",
     "text": [
      "Time for topological is %s 0.05172691121697426\n"
     ]
    }
   ],
   "source": [
    "start_time=timeit.default_timer()\n",
    "connections=[]\n",
    "gates={}\n",
    "nodes={}\n",
    "file_net='c432.net' # change file name here for different netlists.\n",
    "file_input='c432.inputs'\n",
    "output=[]\n",
    "k=0\n",
    "_,head,_=read_file_inputs(file_input)\n",
    "output,o=topo_solve(file_net,file_input)\n",
    "nl = list(nx.lexicographical_topological_sort(g))\n",
    "f1=open(\"Output_topological_\"+str(file_net),'w')\n",
    "for l in sorted(nl):\n",
    "    f1.write(str(l)+\"\\t\")\n",
    "f1.write(\"\\n\")\n",
    "for k in range(o):\n",
    "    for j in range(len(output[k])):\n",
    "        f1.write(str(output[k][j]) + \"\\t\")\n",
    "    f1.write(\"\\n\")    \n",
    "f1.close()\n",
    "end_time=timeit.default_timer()\n",
    "print(\"Time for topological is %s\",(end_time-start_time))"
   ]
  },
  {
   "cell_type": "markdown",
   "id": "b9a93756-aebd-46da-ba7c-a6540bafecc6",
   "metadata": {},
   "source": [
    "#### Time taken: Topological\n",
    "The time taken is recorded using `default_timer` function from `timeit` library. It records the time taken to complete from the start to the end of the main function."
   ]
  },
  {
   "cell_type": "markdown",
   "id": "b5273972-d01b-4be8-aa8c-bd251faf662e",
   "metadata": {},
   "source": [
    "# Event-Driven"
   ]
  },
  {
   "cell_type": "markdown",
   "id": "fd312fcb-73d2-4751-9a47-98320fa2523f",
   "metadata": {},
   "source": [
    "#### Importing Libraries\n",
    "First we import `collections` library which has the `deque` function, which we will use for queueing in our approach.\n",
    "\n",
    "We initialize `q` which is our queue variable, and `output1` and `valuest` variables which have the same meaning as the topological approach but for event-driven."
   ]
  },
  {
   "cell_type": "code",
   "execution_count": 14,
   "id": "5b3d0330-bb40-4cf4-9a27-1cfea2edddca",
   "metadata": {
    "tags": []
   },
   "outputs": [],
   "source": [
    "from collections import deque\n",
    "q=deque()\n",
    "output1=[]\n",
    "valuest={}"
   ]
  },
  {
   "cell_type": "markdown",
   "id": "6eef3c44-283f-4783-b560-0492360f3f6c",
   "metadata": {},
   "source": [
    "#### Function to solve for a net recursively\n",
    "Here we have defined `val` function, which first checks the predecessors of the given input. \n",
    "\n",
    "Based on that it is either:\n",
    "* Evaluated - *if it has evaluated predecessors*\n",
    "* poped and appended - *if either of its predecessors are not evaluated*\n",
    "* It's successors are appended - *if it is a primary input*\n",
    "\n",
    "This logic works quite well, to evaluate multiple instances of inputs continuosly, it also checks if a particular net's value has not changed from the previous instance. Therefore discarding that node and any successors from the queue if the condition is satisified. This saves time and computing power."
   ]
  },
  {
   "cell_type": "code",
   "execution_count": 15,
   "id": "4a3b1079-1796-4ece-a165-d6b2caeb9542",
   "metadata": {
    "tags": []
   },
   "outputs": [],
   "source": [
    "def val(l):\n",
    "    k=n1=n2=0\n",
    "    u=list(g.predecessors(l))\n",
    "    if len(u)==2:\n",
    "        n1=valuest.get(u[0])\n",
    "        n2=valuest.get(u[1])\n",
    "    elif len(u)==1:\n",
    "        n1=valuest.get(u[0])\n",
    "    elif len(u)==0:\n",
    "        f=list(g.successors(l))\n",
    "        for a in f:\n",
    "            q.append(a)\n",
    "        q.popleft()\n",
    "        return\n",
    "    if n1 is None or n2 is None:\n",
    "        q.append(l)\n",
    "        q.popleft()  \n",
    "        return\n",
    "    else:\n",
    "        if gates.get(l) == 'nand2':\n",
    "            k=NAND(n1,n2)\n",
    "        elif gates.get(l) == 'and2':\n",
    "            k=AND(n1,n2)\n",
    "        elif gates.get(l) == 'or2':\n",
    "             k=OR(n1,n2)\n",
    "        elif gates.get(l) == 'inv':\n",
    "            k=NOT(n1)\n",
    "        elif gates.get(l) == 'nor2':\n",
    "            k=NOR(n1,n2)\n",
    "        elif gates.get(l) == 'xor2':\n",
    "            k=XOR(n1,n2)\n",
    "        elif gates.get(l) == 'xnor2':\n",
    "            k=XNOR(n1,n2)\n",
    "        elif gates.get(l) == 'buf':\n",
    "            k=BUF(n1)\n",
    "        if k!=valuest.get(l):\n",
    "            valuest[l]=k\n",
    "            f=list(g.successors(l))\n",
    "            for a in f:\n",
    "                q.append(a)\n",
    "        q.popleft()\n",
    "    return"
   ]
  },
  {
   "cell_type": "markdown",
   "id": "937c11fa-78f3-4657-aab2-5336a115186c",
   "metadata": {},
   "source": [
    "#### Initializing the variables\n",
    "This block initializes the queue with **Primary Inputs**, and solve for the first instance of inputs. This initializes our `valuest` variable with values."
   ]
  },
  {
   "cell_type": "code",
   "execution_count": 16,
   "id": "efbb9a7f-df55-4028-a935-41f67fa94ae5",
   "metadata": {
    "tags": []
   },
   "outputs": [],
   "source": [
    "for l in sorted(gates):\n",
    "    if gates.get(l)=='PI':\n",
    "        q.append(l)\n",
    "inarr1,head,o=read_file_inputs(file_input)\n",
    "i=0\n",
    "for l in q:\n",
    "    valuest[l]=int(inarr1[0][i])\n",
    "    i+=1\n",
    "while(q):\n",
    "    val(q[0])\n",
    "output1.append(list(dict(sorted(valuest.items())).values()))"
   ]
  },
  {
   "cell_type": "markdown",
   "id": "ba49f42b-df3f-4f1a-bc28-9eed39c80c76",
   "metadata": {},
   "source": [
    "#### Function for initializing queue for further computation\n",
    "This block checks which of the primary inputs has changed from the previous instance and initialiazes and adds it to the queue."
   ]
  },
  {
   "cell_type": "code",
   "execution_count": 17,
   "id": "a6fd5d3c-8652-4c4c-97b6-b534108c6f91",
   "metadata": {
    "tags": []
   },
   "outputs": [],
   "source": [
    "def input_compare(inarr1,j):\n",
    "    for i in range(len(inarr1[0])):\n",
    "        if inarr1[j][i]!=inarr1[j-1][i]:\n",
    "            q.append(head[i])\n",
    "            valuest[head[i]]=int(inarr1[j][i])\n",
    "    return "
   ]
  },
  {
   "cell_type": "markdown",
   "id": "971f5ded-0299-43df-ac90-bb0c4ec2a02e",
   "metadata": {},
   "source": [
    "#### Final Evaluation and Output File\n",
    "This block is the main function and it keeps initializing the queue with changed **Primary Inputs** and evaluating for it.\n",
    "\n",
    "The `output1` list is appended with the sorted `valuest` dictionary and this is written into the final file for the output."
   ]
  },
  {
   "cell_type": "code",
   "execution_count": 18,
   "id": "7f08a0d4-6cdc-421f-bcac-e1a4876d3a57",
   "metadata": {
    "tags": []
   },
   "outputs": [
    {
     "name": "stdout",
     "output_type": "stream",
     "text": [
      "Time for event driven is 0.04985751863569021 s\n"
     ]
    }
   ],
   "source": [
    "start_time2=timeit.default_timer()\n",
    "for k in range(1,o):\n",
    "    input_compare(inarr1,k)\n",
    "    while(q):\n",
    "        val(q[0])\n",
    "    output1.append(list(dict(sorted(valuest.items())).values()))\n",
    "f2=open(\"Output_event_driven_\"+str(file_net),'w')\n",
    "for l in sorted(nl):\n",
    "    f2.write(str(l)+\"\\t\")\n",
    "f2.write(\"\\n\")\n",
    "for k in range(o):\n",
    "    for j in range(len(output1[k])):\n",
    "        f2.write(str(output1[k][j]) + \"\\t\")\n",
    "    f2.write(\"\\n\")    \n",
    "f2.close()\n",
    "end_time2=timeit.default_timer()\n",
    "print(\"Time for event driven is\",(end_time2-start_time2),\"s\")  "
   ]
  },
  {
   "cell_type": "markdown",
   "id": "d9bc9d79-9a63-4628-bc31-d2f16907e103",
   "metadata": {},
   "source": [
    "#### Time taken: Event-Driven\n",
    "The time taken is calculated similarly to the topological one."
   ]
  },
  {
   "cell_type": "markdown",
   "id": "f500bd39-b1de-4035-b33f-2ac9fd1d3130",
   "metadata": {},
   "source": [
    "## Which method to use?\n",
    "The two methods we have used are:\n",
    "* Topological: *Sort the nodes in a topological order and evaluate.*\n",
    "* Event-Driven: *Use a FIFO Data Structure (in our case Queue)to evaluate.*\n",
    "\n",
    "The **Topological** method yields the values as shown:\n",
    "\n",
    "| Net | Time Taken | Number of instances |\n",
    "| --- | ----------- | ------------------ |\n",
    "| c17.net | 3.054ms | 10 |\n",
    "| c8.net | 8.934ms | 5 |\n",
    "| parity.net | 18.405ms | 5 |\n",
    "| c432.net| 43.226ms | 100 |\n",
    "\n",
    "\n",
    "\n",
    "\n",
    "\n",
    "The **Event Driven** method yields time taken as shown:\n",
    "| Net | Time Taken | Number of instances |\n",
    "| --- | ----------- | ------------------ |\n",
    "| c17.net | 1.048ms | 10 |\n",
    "| c8.net | 5.295ms | 5 |\n",
    "| parity.net | 1.681ms | 5 |\n",
    "| c432.net| 40.225ms | 100 |\n",
    "\n",
    "We can see some patterns like **Event Driven** is much faster for `parity.net`.\n",
    "\n",
    "Also for `c432.net` both methods are similar in time, with **Topological** being a bit slower.\n",
    "\n",
    "As we can cleasrly see, *Event Driven* is faster than *Topological*. But there is no direct relation on the number of instances to the \"speed\" of the computation.\n",
    "\n",
    "Topological method works in a way that is sequential and organised, but this method has to be done all over again for each instance of time.\n",
    "\n",
    "Event Driven method works in way that only evaluates the immediate successors, but it is much faster for different instances as it only has to check the inputs that have changed.\n",
    "\n",
    "So in a way the factors that affect the \"speed\" of computation, would be number of instances to evaluate, number of nodes, and also how many instances change each time.\n",
    "\n",
    "We can safely assume that **Event Driven** method is better usually, but it still depends on the netlist ;).\n"
   ]
  },
  {
   "cell_type": "code",
   "execution_count": null,
   "id": "bc8d049e-33ab-4707-82e0-9cb5eb0393b0",
   "metadata": {},
   "outputs": [],
   "source": []
  }
 ],
 "metadata": {
  "authors": [
   {
    "name": "Sumeeth C Muchandimath EE21B145 <ee21b145@smail.iitm.ac.in>"
   }
  ],
  "kernelspec": {
   "display_name": "Python 3 (ipykernel)",
   "language": "python",
   "name": "python3"
  },
  "language_info": {
   "codemirror_mode": {
    "name": "ipython",
    "version": 3
   },
   "file_extension": ".py",
   "mimetype": "text/x-python",
   "name": "python",
   "nbconvert_exporter": "python",
   "pygments_lexer": "ipython3",
   "version": "3.9.2"
  }
 },
 "nbformat": 4,
 "nbformat_minor": 5
}
