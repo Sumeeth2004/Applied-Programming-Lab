{
 "cells": [
  {
   "cell_type": "markdown",
   "id": "5b45ec84",
   "metadata": {
    "tags": []
   },
   "source": [
    "# Assignment\n",
    "\n",
    "The following are the problems you need to solve for this assignment.  You need to submit your code (either as standalone Python script or a Python notebook), a PDF document explaining your solution (either generated from the notebook or a separate LaTeX document), and any supporting files you may have (such as circuit netlists you used for testing your code).\n",
    "\n",
    "- Write a function to find the factorial of N (N being an input) and find the time taken to compute it.  This will obviously depend on where you run the code and which approach you use to implement the factorial.  Explain your observations briefly.\n",
    "- Write a linear equation solver that will take in matrices $A$ and $b$ as inputs, and return the vector $x$ that solves the equation $Ax=b$.  Your function should catch errors in the inputs and return suitable error messages for different possible problems.\n",
    "  - Time your solver to solve a random $10\\times 10$ system of equations.  Compare the time taken against the `numpy.linalg.solve` function for the same inputs.\n",
    "- Given a circuit netlist in the form described above, read it in from a file, construct the appropriate matrices, and use the solver you have written above to obtain the voltages and currents in the circuit.  If you find AC circuits hard to handle, first do this for pure DC circuits, but you should be able to handle both voltage and current sources.\n",
    "\n",
    "## Bonus assignments\n",
    "\n",
    "- (Small bonus): after reading in the netlist, allow some or all sources and impedances to be controlled interactively - either using widgets or other mechanisms.  On each change you should recompute the currents and voltages and display them.\n",
    "- (Large bonus): make a solver that can do real-time transient simulations of a SPICE netlist and update the currents and voltages dynamically.  They should also be plotted as a function of time and react to changes.  This is something along the lines of https://www.falstad.com/circuit/.  Ideally you should be able to do a real-time demo of some experiments you might conduct as part of a basic electronics lab, and simulate the behaviour of an oscilloscope and signal generator."
   ]
  },
  {
   "cell_type": "markdown",
   "id": "347a14a8-639d-4207-875e-aa2e3261f4ef",
   "metadata": {},
   "source": [
    "# Factorial"
   ]
  },
  {
   "cell_type": "code",
   "execution_count": 1,
   "id": "1a6daa72-6087-4f89-861e-42a690afd310",
   "metadata": {
    "tags": []
   },
   "outputs": [],
   "source": [
    "import numpy as np\n",
    "def fact(n):\n",
    "    if n == 1:\n",
    "        return 1\n",
    "    else:\n",
    "        return n*fact(n-1)\n",
    "# %timeit fact(100)\n",
    "# %timeit np.math.factorial(100)"
   ]
  },
  {
   "cell_type": "markdown",
   "id": "a13787e0-19f5-4725-ad5a-d67b2445cf7b",
   "metadata": {},
   "source": [
    "### Explanation\n",
    "Here we have used a very simple recursive function to compute factorial.\n",
    "\n",
    "The time taken is found out by the `%timeit` function. It shows around **11.5**$\\mu$s for the user defined function, while the in-built function takes **0.736**$\\mu$s, which is more than 15 times faster."
   ]
  },
  {
   "cell_type": "markdown",
   "id": "a2dd279e-77c1-4246-a1fa-7165871bec69",
   "metadata": {},
   "source": [
    "# Gaussian Elimination"
   ]
  },
  {
   "cell_type": "markdown",
   "id": "6ad3d9d0-335c-4873-8c82-14f37c1c1c53",
   "metadata": {},
   "source": [
    "## Aim\n",
    "We have been instructed to solve a generic `NxN` system of equations using Gaussian Elimination and compute the time taken for a 10x10 system."
   ]
  },
  {
   "cell_type": "markdown",
   "id": "74658abd-cb3d-411e-806e-7f9e8abe2502",
   "metadata": {},
   "source": [
    "We assume that we recieve an augmented matrix in the variable `mat`. We now code the solver to solve this."
   ]
  },
  {
   "cell_type": "code",
   "execution_count": 2,
   "id": "966eeca5-1903-4910-8a8a-9122d917950c",
   "metadata": {
    "tags": []
   },
   "outputs": [],
   "source": [
    "from pprint import pprint\n",
    "import numpy as np\n",
    "N = 10\n",
    "\n",
    "#start of the gaussian elimination\n",
    "def gaussElim(mat):\n",
    "    singular_flag = Elim(mat)  #flag to check if matrix is singular\n",
    "    if singular_flag!=-1:\n",
    "        print(\"It's a Singular Matrix\")\n",
    "        if(mat[singular_flag][N]):  #if diagonal element has non-zero element and is singular, it has no solution\n",
    "            print(\"System is not consistent\")\n",
    "        else:\n",
    "            print(\"It has infinitely many solutions\")\n",
    "            \n",
    "        return\n",
    "    \n",
    "    return(back_sub(mat))"
   ]
  },
  {
   "cell_type": "markdown",
   "id": "144aabb2-0747-4113-9580-2f66fa482f33",
   "metadata": {},
   "source": [
    "The above block sends the matrix for forward elimination and then checks for errors which may arise, such as having a singular matrix.\n",
    "\n",
    "If it is a singular matrix, we check if the value at the index returned is `0`, because if so, it may have infinte solutions, else no solution."
   ]
  },
  {
   "cell_type": "code",
   "execution_count": 3,
   "id": "64b586da-ce53-4532-a1df-4350cecc0086",
   "metadata": {
    "tags": []
   },
   "outputs": [],
   "source": [
    "#function to swap two rows of a given matrix\n",
    "def swap_row(mat,i,j):\n",
    "    for k in range(N+1):\n",
    "        temp=mat[i][k]\n",
    "        mat[i][k]=mat[j][k]\n",
    "        mat[j][k]=temp\n",
    "        "
   ]
  },
  {
   "cell_type": "markdown",
   "id": "47d5c8ed-ff7b-49fa-96e5-8e85d52391f8",
   "metadata": {},
   "source": [
    "This block is a function to swap two rows of a matrix, which will be used in pivoting."
   ]
  },
  {
   "cell_type": "code",
   "execution_count": 4,
   "id": "d09f87cc-cbbc-49bd-9d33-0a2857689614",
   "metadata": {
    "tags": []
   },
   "outputs": [],
   "source": [
    "#function to forward eliminate the matric to a row reduced echelon form      \n",
    "def Elim(mat):\n",
    "    for k in range(N):\n",
    "        im=k\n",
    "        vm=mat[im][k]\n",
    "        for i in range(k+1,N):\n",
    "            if(abs(mat[i][k])>vm):  #comparing pivotal values to find the highest one\n",
    "                vm=mat[i][k]\n",
    "                im=i\n",
    "        if not mat[k][im]:  #checekimg if we get 0\n",
    "            return k\n",
    "        if im!=k:\n",
    "            swap_row(mat,k,im)\n",
    "        for i in range(k+1,N):\n",
    "            f=mat[i][k]/mat[k][k]  #getting the factor to divide the below row with\n",
    "            for j in range(k+1,N+1):\n",
    "                mat[i][j]-=mat[k][j]*f\n",
    "            mat[i][k]=0  #converting lower triangle elements to 0\n",
    "    return -1"
   ]
  },
  {
   "cell_type": "markdown",
   "id": "5323d7e1-751f-4506-a1d7-5ef1acd357ea",
   "metadata": {},
   "source": [
    "This block first does **partial pivoting**, and then swaps rows accordingly, before proceeding with forward elimination to result in a triangular matrix."
   ]
  },
  {
   "cell_type": "code",
   "execution_count": 5,
   "id": "de7f138f-fca9-4544-b99e-a9a38dba5a71",
   "metadata": {
    "tags": []
   },
   "outputs": [],
   "source": [
    "#simple function for back substitution\n",
    "def back_sub(mat):\n",
    "    x=[0 for element in range(N)]\n",
    "    for i in range (N-1,-1,-1):\n",
    "        x[i]=mat[i][N]\n",
    "        for j in range(i+1,N):\n",
    "            x[i]-=mat[i][j]*x[j]\n",
    "        x[i]=(x[i]/mat[i][i])\n",
    "    return(x)"
   ]
  },
  {
   "cell_type": "markdown",
   "id": "ba88e96e-09b0-4802-bc32-eac228e811ca",
   "metadata": {},
   "source": [
    "This is the Back-Substitution function which returns the answer matrix to the `gaussElim` function, which in turn returns it to where it was first called."
   ]
  },
  {
   "cell_type": "code",
   "execution_count": 6,
   "id": "653a2810-1215-4e9c-ac9c-31241a36663b",
   "metadata": {
    "tags": []
   },
   "outputs": [
    {
     "name": "stdout",
     "output_type": "stream",
     "text": [
      "[[ 0.57592865]\n",
      " [-1.1434718 ]\n",
      " [ 1.700912  ]\n",
      " [ 1.56273285]\n",
      " [ 1.1733649 ]\n",
      " [ 1.36712171]\n",
      " [-1.35775437]\n",
      " [ 1.04556496]\n",
      " [-1.97475077]\n",
      " [-2.06722465]]\n",
      "[0.575928649457065,\n",
      " -1.1434717980768436,\n",
      " 1.7009120009075778,\n",
      " 1.5627328459907674,\n",
      " 1.1733649044776124,\n",
      " 1.367121709432954,\n",
      " -1.3577543680410384,\n",
      " 1.045564958058256,\n",
      " -1.9747507747613344,\n",
      " -2.0672246530706593]\n"
     ]
    }
   ],
   "source": [
    "mat = [[1 ,3 ,1 ,2 ,6 ,6 ,0 ,1 ,3 ,5 ,2],\n",
    "[7 ,0 ,2 ,0 ,5 ,5 ,6 ,3 ,3 ,3 ,3],\n",
    "[6 ,0 ,6 ,0 ,0 ,8 ,4 ,5 ,3 ,7 ,4],\n",
    "[8 ,5 ,4 ,9 ,3 ,5 ,3 ,5 ,8 ,7 ,1],\n",
    "[7 ,6 ,3 ,8 ,9 ,2 ,3 ,8 ,7 ,8 ,2],\n",
    "[9 ,5 ,7 ,0 ,7 ,7 ,0 ,1 ,8 ,6 ,2],\n",
    "[3 ,9 ,7 ,9 ,2 ,1 ,7 ,6 ,7 ,1 ,2],\n",
    "[8 ,5 ,6 ,4 ,4 ,0 ,3 ,7 ,2 ,5 ,9],\n",
    "[1 ,2 ,7 ,6 ,1 ,5 ,2 ,0 ,8 ,1 ,7],\n",
    "    [6 ,4 ,4 ,3 ,6 ,2 ,7 ,8 ,5 ,2 ,5]]  #example matrix\n",
    "\n",
    "A= np.array([[1 ,3 ,1 ,2 ,6 ,6 ,0 ,1 ,3 ,5 ],\n",
    "[7 ,0 ,2 ,0 ,5 ,5 ,6 ,3 ,3 ,3 ],\n",
    "[6 ,0 ,6 ,0 ,0 ,8 ,4 ,5 ,3 ,7 ],\n",
    "[8 ,5 ,4 ,9 ,3 ,5 ,3 ,5 ,8 ,7 ],\n",
    "[7 ,6 ,3 ,8 ,9 ,2 ,3 ,8 ,7 ,8 ],\n",
    "[9 ,5 ,7 ,0 ,7 ,7 ,0 ,1 ,8 ,6 ],\n",
    "[3 ,9 ,7 ,9 ,2 ,1 ,7 ,6 ,7 ,1 ],\n",
    "[8 ,5 ,6 ,4 ,4 ,0 ,3 ,7 ,2 ,5 ],\n",
    "[1 ,2 ,7 ,6 ,1 ,5 ,2 ,0 ,8 ,1 ],\n",
    "[6 ,4 ,4 ,3 ,6 ,2 ,7 ,8 ,5 ,2 ]] )\n",
    "b= np.array( [[2],\n",
    "[3],\n",
    "[4],\n",
    "[1],\n",
    "[2],\n",
    "[2],\n",
    "[2],\n",
    "[9],\n",
    "[7],\n",
    "[5]])\n",
    "ans=gaussElim(mat)\n",
    "print(np.linalg.solve(A,b))\n",
    "pprint(ans)"
   ]
  },
  {
   "cell_type": "markdown",
   "id": "573d2bef-7cc3-46d2-888f-8136ed9d5a0e",
   "metadata": {},
   "source": [
    "Here we have initialised a random 10x11 matrix, to feed into the solver.\n",
    "\n",
    "We have cross verified the result with the `np.linalg.solve()` function, so the solver works properly.\n",
    "\n",
    "But how long does it take?"
   ]
  },
  {
   "cell_type": "code",
   "execution_count": 7,
   "id": "b2fb5193-25a6-40f2-970e-1c42707591c2",
   "metadata": {},
   "outputs": [],
   "source": [
    "# %timeit gaussElim(mat)\n",
    "# %timeit np.linalg.solve(A, b)"
   ]
  },
  {
   "cell_type": "markdown",
   "id": "84e51c12-9591-4f65-a5a4-74787963ee74",
   "metadata": {},
   "source": [
    "After using the `%timeit` function, we see that our solver is more than **3 times** slower than `np.linalg.solve()`. "
   ]
  },
  {
   "cell_type": "markdown",
   "id": "6eaa5b31-0e72-4bcf-98d6-410383b5fa2c",
   "metadata": {},
   "source": [
    "# SPICE Simulator"
   ]
  },
  {
   "cell_type": "markdown",
   "id": "670c084a-758c-4abb-8bfc-cd57567adbd7",
   "metadata": {},
   "source": [
    "## Aim\n",
    "To read a `.netlist` file and extract information of the components and their respective nodes as well as their values.\n",
    "\n",
    "Then use our solver from the previous problem to solve for nodal voltages and auxilliary currents."
   ]
  },
  {
   "cell_type": "markdown",
   "id": "51757df6-bf5b-411e-be77-d961f1cad9bb",
   "metadata": {},
   "source": [
    "We start off by defining our Gaussian Elimination solver from the previous problem but not defining `N`, as it will change based on different `.netlist` files."
   ]
  },
  {
   "cell_type": "code",
   "execution_count": 8,
   "id": "2305c7d8-3295-44f1-a467-610190e10e51",
   "metadata": {},
   "outputs": [],
   "source": [
    "import numpy as np\n",
    "import sys\n",
    "from pprint import pprint\n",
    "\n",
    "#we have used the same function as the previous Program\n",
    "def gaussElim(mat): \n",
    "    singular_flag = Elim(mat)\n",
    "    if singular_flag!=-1:\n",
    "        print(\"It's a Singular Matrix\")\n",
    "        if(mat[singular_flag][N]):\n",
    "            print(\"System is not consistent\")\n",
    "        else:\n",
    "            print(\"It has infinitely many solutions\")\n",
    "        return\n",
    "    return(back_sub(mat))\n",
    "\n",
    "def swap_row(mat,i,j):\n",
    "    for k in range(N+1):\n",
    "        temp=mat[i][k]\n",
    "        mat[i][k]=mat[j][k]\n",
    "        mat[j][k]=temp\n",
    "        \n",
    "def Elim(mat):\n",
    "    for k in range(N):\n",
    "        im=k\n",
    "        vm=abs(mat[im][k])\n",
    "        for i in range(k+1,N):\n",
    "            if(abs(mat[i][k])>vm):\n",
    "                vm=abs(mat[i][k])\n",
    "                im=i\n",
    "        if not mat[k][im]:\n",
    "            return k\n",
    "        if im!=k:\n",
    "            swap_row(mat,k,im)\n",
    "        for i in range(k+1,N):\n",
    "            f=mat[i][k]/mat[k][k]\n",
    "            for j in range(k+1,N+1):\n",
    "                mat[i][j]-=mat[k][j]*f\n",
    "            mat[i][k]=0\n",
    "    return -1\n",
    "\n",
    "def back_sub(mat):\n",
    "    x=[0 for element in range(N)]\n",
    "    for i in range (N-1,-1,-1):\n",
    "        x[i]=mat[i][N]\n",
    "        for j in range(i+1,N):\n",
    "            x[i]-=mat[i][j]*x[j]\n",
    "        x[i]=(x[i]/mat[i][i])\n",
    "    return(x)\n",
    "\n"
   ]
  },
  {
   "cell_type": "markdown",
   "id": "7edc25ff-cf6f-4423-b773-40e4bfa70021",
   "metadata": {},
   "source": [
    "Now we start by defining classes for all passive components and independent sources.\n",
    "\n",
    "It is much easier to handle attributes related to each components, such as their nodes and value.\n",
    "\n",
    "Classes also offer modularity as I can easily define another attribute, such as tolerance for resistors, series resistance for voltage sources, and use them for other computations.\n",
    "\n",
    "We then define lists to hold objects of each components along with counter variables, as I faced some complexity using `len(R)` in some places, so I used `r` instead."
   ]
  },
  {
   "cell_type": "code",
   "execution_count": 9,
   "id": "2902ffba-9ace-4d26-9eb7-84cca6acdbe2",
   "metadata": {},
   "outputs": [],
   "source": [
    "# Here we start with defining classes for all the components as it will be easy to associate nodes and values this way\n",
    "\n",
    "class resistor:\n",
    "    def __init__(self,node_ini,node_fin,value):\n",
    "        self.node_ini=node_ini\n",
    "        self.node_fin=node_fin\n",
    "        self.value=value\n",
    "class inductor:\n",
    "    def __init__(self,node_ini,node_fin,value):\n",
    "        self.node_ini=node_ini\n",
    "        self.node_fin=node_fin\n",
    "        self.value=value\n",
    "class capacitor:\n",
    "    def __init__(self,node_ini,node_fin,value):\n",
    "        self.node_ini=node_ini\n",
    "        self.node_fin=node_fin\n",
    "        self.value=value\n",
    "class voltage_source:\n",
    "    def __init__(self,node_ini,node_fin,value):\n",
    "        self.node_ini=node_ini\n",
    "        self.node_fin=node_fin\n",
    "        self.value=value\n",
    "class current_source:\n",
    "    def __init__(self,node_ini,node_fin,value):\n",
    "        self.node_ini=node_ini\n",
    "        self.node_fin=node_fin\n",
    "        self.value=value\n",
    "class current_source_ac:\n",
    "    def __init__(self,node_ini,node_fin,value):\n",
    "        self.node_ini=node_ini\n",
    "        self.node_fin=node_fin\n",
    "        self.value=value\n",
    "class voltage_source_ac:\n",
    "    def __init__(self,node_ini,node_fin,value):\n",
    "        self.node_ini=node_ini\n",
    "        self.node_fin=node_fin\n",
    "        self.value=value\n",
    "        \n",
    "# Have initialised lists to hold objects of the components\n",
    "R=[0 for element in range(20)]\n",
    "C=[0 for element in range(20)]\n",
    "L=[0 for element in range(20)]\n",
    "V=[0 for element in range(20)]\n",
    "I=[0 for element in range(20)]\n",
    "V_ac=[0 for element in range(20)]\n",
    "I_ac=[0 for element in range(20)]\n",
    "\n",
    "#counter variables to count number of components and nodes\n",
    "r=c=w=qac=qdc=vac=vdc=dc=ac=num_node=f=0\n",
    "j=0"
   ]
  },
  {
   "cell_type": "markdown",
   "id": "a8b1d303-ec5a-4765-8ee4-5a2ec638a9a9",
   "metadata": {},
   "source": [
    "The below block of code will go through the file line by line and read the information we require.\n",
    "\n",
    "The `j` counter is used to make sure we only read values in between `.circuit` and `.end`.\n",
    "\n",
    "While adding an object to their respective list, we also change node `GND` to `0` and replace nodes such as `n3` to `3`.\n",
    "\n",
    "The `num_node` variable is used to count the number of nodes present in the circuit, as it is required for computation later.\n",
    "\n",
    "We can check for different `.netlist` files by changing the path in `line 2`."
   ]
  },
  {
   "cell_type": "code",
   "execution_count": 10,
   "id": "d81b71cf-8535-4132-ab37-116143a36c08",
   "metadata": {},
   "outputs": [],
   "source": [
    "#a block to read the file\n",
    "file1 = open('ckt4.netlist','r') #We can check for other test cases by editing the path over here\n",
    "lines = file1.readlines()\n",
    "for l in lines:\n",
    "    \n",
    "    #To find the lines between the start and end\n",
    "    if l.strip() == \".end\" or l.strip() == \".circuit\":\n",
    "        j+=1\n",
    "    if j ==1:\n",
    "        if l[0] == 'R':\n",
    "            #this changes the value of the list to an object of the component with the attributes and simultanouesly checks for n1 GND and changes them to integers\n",
    "            R[r]=(resistor(l.split()[1].replace('n','').replace('GND','0'),l.split()[2].replace('n','').replace('GND','0'),float(l.split()[3])))\n",
    "            num_node=max(int(R[r].node_ini),num_node,int(R[r].node_fin))\n",
    "            r+=1\n",
    "        elif l[0]=='V':\n",
    "            if str(l.split()[3])==\"ac\":  #to check for ac source\n",
    "                V_ac[vac]=(voltage_source_ac(l.split()[1].replace('n','').replace('GND','0'),l.split()[2].replace('n','').replace('GND','0'),float(l.split()[4])))\n",
    "                num_node=max(int(V_ac[vac].node_ini),num_node,int(V_ac[vac].node_fin))\n",
    "                ac+=1\n",
    "                vac+=1\n",
    "            elif str(l.split()[3]) == \"dc\":\n",
    "                V[vdc]=(voltage_source(l.split()[1].replace('n','').replace('GND','0'),l.split()[2].replace('n','').replace('GND','0'),float(l.split()[4])))\n",
    "                num_node=max(int(V[vdc].node_ini),num_node,int(V[vdc].node_fin))\n",
    "                dc+=1\n",
    "                vdc+=1\n",
    "        elif l[0]=='I':\n",
    "            if str(l.split()[3])==\"dc\":\n",
    "                I[qdc]=(current_source(l.split()[1].replace('n','').replace('GND','0'),l.split()[2].replace('n','').replace('GND','0'),float(l.split()[4])))\n",
    "                num_node=max(int(I[qdc].node_ini),num_node,int(I[qdc].node_fin))\n",
    "                dc+=1\n",
    "                qdc+=11\n",
    "            elif str(l.split()[3])==\"ac\":\n",
    "                I_ac[qac]=(current_source_ac(l.split()[1].replace('n','').replace('GND','0'),l.split()[2].replace('n','').replace('GND','0'),float(l.split()[4])))\n",
    "                num_node=max(int(I_ac[qac].node_ini),num_node,int(I_ac[qac].node_fin))\n",
    "                ac+=1\n",
    "                qac+=1\n",
    "        elif l[0]=='L':\n",
    "            L[w]=(inductor(l.split()[1].replace('n','').replace('GND','0'),l.split()[2].replace('n','').replace('GND','0'),float(l.split()[3])))\n",
    "            num_node=max(int(L[w].node_ini),num_node,int(L[w].node_fin))\n",
    "            w+=1\n",
    "        elif l[0]=='C':\n",
    "            C[c]=(capacitor(l.split()[1].replace('n','').replace('GND','0'),l.split()[2].replace('n','').replace('GND','0'),float(l.split()[3])))\n",
    "            num_node=max(int(C[c].node_ini),num_node,int(C[c].node_fin))\n",
    "            c+=1\n",
    "    if j==2:  #breaks after \".end\" is read\n",
    "        break\n",
    "for l in lines:  #loop to find frequency of the AC source\n",
    "    if l[0:3]=='.ac':\n",
    "        omega=2*np.pi*float(l.split()[2])\n",
    "        f+=1\n",
    "file1.close()"
   ]
  },
  {
   "cell_type": "markdown",
   "id": "6504468c-787f-41cb-bd11-17aee4d51ab7",
   "metadata": {},
   "source": [
    "This block of code is used to check for errors such as using an AC and DC source together or using two AC sources with different frequencies."
   ]
  },
  {
   "cell_type": "code",
   "execution_count": 11,
   "id": "97504ac3-321e-4d17-ac95-75c4856e9b51",
   "metadata": {},
   "outputs": [],
   "source": [
    "#to check for error states\n",
    "if (ac*dc!=0):\n",
    "    print(\"Not possible to solve with AC and DC sources in one circuit\")\n",
    "    sys.exit()\n",
    "elif f>1:\n",
    "    print(\"Not possible to solve circuit with two different AC frequencies\")\n",
    "    sys.exit()"
   ]
  },
  {
   "cell_type": "markdown",
   "id": "1e5cb570-9428-4ef4-991c-dfda1cc4371a",
   "metadata": {},
   "source": [
    "The Modified Nodal Analysis Matrix was generated by using the method specified in this website, [Modified Nodal Analysis](https://qucs.github.io/tech/node14.html) , which proved to be easy to implement with a few `for` loops and conditional statements."
   ]
  },
  {
   "cell_type": "markdown",
   "id": "a6f0b641-e56c-4268-991f-169e0a8dc04d",
   "metadata": {},
   "source": [
    "The following few blocks initialise the `A` Matrix part of the augmented matrix."
   ]
  },
  {
   "cell_type": "markdown",
   "id": "26a6c80f-a9e8-4e91-ab9a-90d51f1be39b",
   "metadata": {},
   "source": [
    "![A Matrix](https://raw.githubusercontent.com/Sumeeth2004/personal/main/A%20Matrix.png?token=GHSAT0AAAAAAB6QBSPA2JUHDDGD5WQ4I75UY7DJFVQ)"
   ]
  },
  {
   "cell_type": "code",
   "execution_count": 12,
   "id": "a05df1ef-9245-4e9a-8b01-51fff212a2a4",
   "metadata": {},
   "outputs": [],
   "source": [
    "#the size of matrix would be n+m where n is number of nodes and m is number of independent voltage sources\n",
    "matA=[[0 for i in range(num_node+vac+vdc+1)]for element in range(num_node+vac+vdc)]\n",
    "\n",
    "#here we are first filling in the values of an nxn matrix within the larger matrix, with conductance values\n",
    "for i in range (num_node):\n",
    "    for j in range(num_node):\n",
    "        if i==j:\n",
    "            for n in range(r):\n",
    "                if int(R[n].node_ini)==i+1 or int(R[n].node_fin)==i+1:\n",
    "                    matA[i][i]+=1/(float(R[n].value))\n",
    "            if w!=0:\n",
    "                for n in range(w):\n",
    "                    if int(L[n].node_ini)==i+1 or int(R[n].node_fin)==i+1:\n",
    "                        matA[i][i]+=1/(1j*omega*L[n].value)\n",
    "            if c!=0:\n",
    "                for n in range(c):\n",
    "                    if int(C[n].node_ini)==i+1 or int(C[n].node_fin)==i+1:\n",
    "                        matA[i][i]+=1j*omega*C[n].value\n",
    "                        \n",
    "\n",
    "        else:\n",
    "            for n in range(r):\n",
    "                if((int(R[n].node_ini)==i+1 and int(R[n].node_fin)==j+1) or ((int(R[n].node_ini)==j+1 and int(R[n].node_fin)==i+1))):\n",
    "                    matA[i][j]-=1/(float(R[n].value))\n",
    "            if w!=0:\n",
    "                for n in range(w):\n",
    "                    if((int(L[n].node_ini)==i+1 and int(L[n].node_fin)==j+1) or ((int(L[n].node_ini)==j+1 and int(L[n].node_fin)==i+1))):\n",
    "                        matA[i][j]-=1/(1j*omega*L[n].value)\n",
    "            if c!=0:\n",
    "                for n in range(c):\n",
    "                    if((int(C[n].node_ini)==i+1 and int(C[n].node_fin)==j+1) or ((int(C[n].node_ini)==j+1 and int(C[n].node_fin)==i+1))):\n",
    "                        matA[i][j]-=1j*omega*C[n].value"
   ]
  },
  {
   "cell_type": "markdown",
   "id": "3e6628fa-45a1-49ae-a4ca-99a95bd5bbf2",
   "metadata": {},
   "source": [
    "The above block of code adds the `G` matrix part of the `A` matrix.\n",
    "![G Block](https://raw.githubusercontent.com/Sumeeth2004/personal/main/G%20Matrix.png?token=GHSAT0AAAAAAB6QBSPAQH2N4KNJSNIE4PKOY7DJHQQ)"
   ]
  },
  {
   "cell_type": "code",
   "execution_count": 13,
   "id": "c5160d01-42a3-4571-a45e-f8cec7f5b21e",
   "metadata": {},
   "outputs": [],
   "source": [
    "for i in range(num_node):\n",
    "    if vac!=0:\n",
    "        for j in range(vac):\n",
    "            if int(V_ac[j].node_ini)==i+1:\n",
    "                matA[i][j+num_node]=1\n",
    "                matA[j+num_node][i]=1\n",
    "            elif int(V_ac[j].node_fin)==i+1:\n",
    "                matA[i][j+num_node]=-1\n",
    "                matA[j+num_node][i]=-1\n",
    "    if vdc!=0:\n",
    "        for j in range(vdc):\n",
    "            if int(V[j].node_ini)==i+1:\n",
    "                matA[i][j+num_node]=1\n",
    "                matA[j+num_node][i]=1\n",
    "            \n",
    "            elif int(V[j].node_fin)==i+1:\n",
    "                matA[i][j+num_node]=-1\n",
    "                matA[j+num_node][i]=-1"
   ]
  },
  {
   "cell_type": "markdown",
   "id": "076bcea3-d44a-4fb4-ae9e-b3ee78eae632",
   "metadata": {},
   "source": [
    " This above block implements the `B` and `C` part of the matrix, it is easy to implement as they both are transposes of each other. \n",
    "\n",
    "We also check for capacitors and inductors, not requiring other code.![B Block](https://raw.githubusercontent.com/Sumeeth2004/personal/main/B%20Matrix.png?token=GHSAT0AAAAAAB6QBSPBHOSJGRHQ4WS5DU5SY7DJJCA)"
   ]
  },
  {
   "cell_type": "code",
   "execution_count": 14,
   "id": "15ea87f0-2af4-4b0b-8f83-afb15598935f",
   "metadata": {},
   "outputs": [],
   "source": [
    "#Here we are adding in the values of the last column in the augmented matrix\n",
    "for i in range(num_node):\n",
    "    if qac!=0:\n",
    "        for j in range(qac):\n",
    "            if i+1 == int(I_ac[j].node_fin):\n",
    "                matA[i][num_node+vac+vdc]+=float(I_ac[j].value)\n",
    "    if qdc!=0:\n",
    "        for j in range(qdc):\n",
    "            if i+1 == int(I[j].node_fin):\n",
    "                matA[i][num_node+vac+vdc]+=float(I[j].value)\n",
    "if ac!=0:\n",
    "    for i in range(vac):\n",
    "        matA[i+num_node][num_node+vac+vdc]+=float(V_ac[i].value)\n",
    "if dc!=0:\n",
    "    for i in range(vdc):\n",
    "        matA[num_node+i][num_node+vac+vdc]+=float(V[i].value)\n",
    "        "
   ]
  },
  {
   "cell_type": "markdown",
   "id": "0046b780-fb09-4629-b832-a1847064d4c1",
   "metadata": {},
   "source": [
    "This block adds values to the last column of the augmented matrix, which is basically current sources' and voltage sources' values.\n",
    "![Last column](https://raw.githubusercontent.com/Sumeeth2004/personal/main/Z%20MAtrix.png?token=GHSAT0AAAAAAB6QBSPB2EJSYPUVH3FCMFDCY7DJKDQ)"
   ]
  },
  {
   "cell_type": "markdown",
   "id": "5cd7b9ae-3648-494e-987f-fd57d0fed7ff",
   "metadata": {},
   "source": [
    "Now we define `N` for the `gaussElim` function to use.\n",
    "\n",
    "We then use `for` loops to print the values in presentable form."
   ]
  },
  {
   "cell_type": "code",
   "execution_count": 15,
   "id": "e37d07ea-8de5-4c89-9116-6294ca8451fc",
   "metadata": {},
   "outputs": [
    {
     "name": "stdout",
     "output_type": "stream",
     "text": [
      "V 1 = -10.0 V\n",
      "V 2 = -5.555555555555556 V\n",
      "V 3 = -3.7037037037037033 V\n",
      "I 1 = -2.2222222222222214 A\n"
     ]
    }
   ],
   "source": [
    "N=num_node+vac+vdc #defining N for the gaussElim function\n",
    "ans=gaussElim(matA)\n",
    "for i in range(num_node):\n",
    "    print(\"V\",i+1,\"=\",ans[i],\"V\")\n",
    "for i in range(vac+vdc):\n",
    "    print(\"I\",i+1,\"=\",ans[i+num_node],\"A\")"
   ]
  },
  {
   "cell_type": "markdown",
   "id": "7656d554-d9e5-468c-a9b7-9eef00d078ec",
   "metadata": {},
   "source": [
    "After simulating the said `netlist` file on LTSPice, we cross verified the values, and they are correct.\n"
   ]
  },
  {
   "cell_type": "markdown",
   "id": "717fc9bb-0be5-43f2-ac64-85f7eeff8ea4",
   "metadata": {},
   "source": [
    "# Conclusion\n",
    "\n",
    "We first made a `NxN` solver using Gaussian Elimination. It can be optimised further to make it faster.\n",
    "\n",
    "We then made a simple `.netlist` solver which can also solve for AC sources. It is able to catch some errors that may have been made in the generation of the `.netlist` file and is able to fix it.\n",
    "\n",
    "But our solver depends on the speed of our Gaussian Elimination Solver, so we can make it faser by just using the `np.linalg.solve()` function."
   ]
  }
 ],
 "metadata": {
  "authors": [
   {
    "name": "Sumeeth C Muchandimath EE21B145 <ee21b145@smail.iitm.ac.in>"
   }
  ],
  "kernelspec": {
   "display_name": "Python 3 (ipykernel)",
   "language": "python",
   "name": "python3"
  },
  "language_info": {
   "codemirror_mode": {
    "name": "ipython",
    "version": 3
   },
   "file_extension": ".py",
   "mimetype": "text/x-python",
   "name": "python",
   "nbconvert_exporter": "python",
   "pygments_lexer": "ipython3",
   "version": "3.9.2"
  },
  "vscode": {
   "interpreter": {
    "hash": "135c9c029983d30fe2c25215b219c39403965bc9bf9257a46b5d1e1e22d97d61"
   }
  }
 },
 "nbformat": 4,
 "nbformat_minor": 5
}
