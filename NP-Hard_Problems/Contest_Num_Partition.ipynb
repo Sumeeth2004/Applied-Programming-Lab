{
 "cells": [
  {
   "cell_type": "code",
   "execution_count": 1,
   "id": "48e8685d-b580-4f16-89b4-4412d56e61ee",
   "metadata": {
    "tags": []
   },
   "outputs": [],
   "source": [
    "import numpy as np\n",
    "file1 = open('inp_1M.txt','r')\n",
    "lines = file1.readlines()\n",
    "length=int(lines[0])\n",
    "a=[]\n",
    "b={}\n",
    "d=[]\n",
    "for i in range(length):\n",
    "    a.append(int(lines[i+1]))\n",
    "    b[int(lines[i+1])]=0\n",
    "    d.append([int(lines[i+1]),0])"
   ]
  },
  {
   "cell_type": "code",
   "execution_count": 2,
   "id": "5a55c35a-ffff-4654-bd33-4ad29e0a8dbd",
   "metadata": {
    "tags": []
   },
   "outputs": [
    {
     "name": "stdout",
     "output_type": "stream",
     "text": [
      "249675360 249676005\n"
     ]
    }
   ],
   "source": [
    "sum1=0\n",
    "sum2=0\n",
    "c=[]\n",
    "for i in a:\n",
    "    if sum1<sum2:\n",
    "        sum1+=i\n",
    "        c.append(0)\n",
    "    else :\n",
    "        sum2+=i\n",
    "        c.append(1)\n",
    "f1=open(\"Num_part3.txt\",'w')\n",
    "f1.write(str(length))\n",
    "f1.write(\"\\n\")\n",
    "for i in c:\n",
    "    f1.write(str(i))\n",
    "    f1.write(\"\\n\")\n",
    "f1.close()\n",
    "print(sum1,sum2)"
   ]
  },
  {
   "cell_type": "code",
   "execution_count": null,
   "id": "8be99fb8-09d8-4034-8859-dc2a91bd7b8d",
   "metadata": {},
   "outputs": [],
   "source": []
  }
 ],
 "metadata": {
  "kernelspec": {
   "display_name": "Python 3 (ipykernel)",
   "language": "python",
   "name": "python3"
  },
  "language_info": {
   "codemirror_mode": {
    "name": "ipython",
    "version": 3
   },
   "file_extension": ".py",
   "mimetype": "text/x-python",
   "name": "python",
   "nbconvert_exporter": "python",
   "pygments_lexer": "ipython3",
   "version": "3.10.4"
  }
 },
 "nbformat": 4,
 "nbformat_minor": 5
}
