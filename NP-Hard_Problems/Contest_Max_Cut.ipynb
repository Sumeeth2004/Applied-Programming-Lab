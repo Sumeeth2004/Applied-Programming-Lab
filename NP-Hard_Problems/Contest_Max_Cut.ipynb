{
 "cells": [
  {
   "cell_type": "code",
   "execution_count": 1,
   "id": "d78fec04-d6bd-4b8a-8ad4-9f2841b457a9",
   "metadata": {
    "tags": []
   },
   "outputs": [],
   "source": [
    "import numpy as np\n",
    "import matplotlib.pyplot as plt\n",
    "from collections import OrderedDict\n",
    "import networkx as nx\n",
    "G = nx.Graph()\n",
    "\n",
    "def inp_ut(file_inp):\n",
    "    try:\n",
    "        with open(file_inp,'r') as f:\n",
    "            data=f.read().split(\"\\n\")\n",
    "    except Exception as ex:\n",
    "        print (ex)\n",
    "        return\n",
    "    return data\n",
    "data=inp_ut('G81.txt')\n",
    "nodes=data[0]\n",
    "edges=data[1]\n",
    "datax,datay,weight=[],[],[]\n",
    "newdata=data[1:]\n",
    "edge=[]\n",
    "for i in newdata:\n",
    "    l=i.split(' ')\n",
    "    if len(l) < 3:\n",
    "        continue\n",
    "    G.add_edge(l[0],l[1],weight=l[2])"
   ]
  },
  {
   "cell_type": "code",
   "execution_count": 2,
   "id": "2821322a-1d7f-433a-95c3-9785a178952c",
   "metadata": {
    "tags": []
   },
   "outputs": [],
   "source": [
    "sum=0\n",
    "a={}\n",
    "for i in G:\n",
    "    a[int(i)]=0\n",
    "for i in G:\n",
    "    l=G.edges(i)\n",
    "    for j in l:\n",
    "        d=G.get_edge_data(j[0],j[1])\n",
    "        e=int(d.get('weight'))\n",
    "        if e>0:\n",
    "            if int(a.get(int(j[0])))!=int(a.get(int(j[1]))):\n",
    "                continue\n",
    "            elif int(a.get(int(j[0])))==int(a.get(int(j[1]))):\n",
    "                if int(a.get(int(j[0]))) == 0:\n",
    "                    a[int(j[1])]=1\n",
    "                else:\n",
    "                    a[int(j[1])]=0\n",
    "            sum+=e"
   ]
  },
  {
   "cell_type": "code",
   "execution_count": 3,
   "id": "1b9bf7f6-6b45-4e83-ab72-bddc60547670",
   "metadata": {
    "tags": []
   },
   "outputs": [],
   "source": [
    "f1=open(\"Max_Cut3.txt\",'w')\n",
    "f1.write(str(data[0].split()[0]))\n",
    "f1.write(\"\\n\")\n",
    "for i in sorted(a):\n",
    "    f1.write(str(a.get(i)))\n",
    "    f1.write(\"\\n\")\n",
    "f1.close()"
   ]
  }
 ],
 "metadata": {
  "kernelspec": {
   "display_name": "Python 3 (ipykernel)",
   "language": "python",
   "name": "python3"
  },
  "language_info": {
   "codemirror_mode": {
    "name": "ipython",
    "version": 3
   },
   "file_extension": ".py",
   "mimetype": "text/x-python",
   "name": "python",
   "nbconvert_exporter": "python",
   "pygments_lexer": "ipython3",
   "version": "3.10.4"
  }
 },
 "nbformat": 4,
 "nbformat_minor": 5
}
